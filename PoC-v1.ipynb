{
 "cells": [
  {
   "cell_type": "raw",
   "id": "fa043d8a-e2e0-4b24-9995-cab068e4beb2",
   "metadata": {},
   "source": [
    "# This is a raw text block, convert it to a code block to make it executable.\n",
    "%pip install langchain\n",
    "%pip install langchain-openai\n",
    "%pip install python-dotenv\n",
    "%pip install tabulate\n",
    "%pip install openpyxl"
   ]
  },
  {
   "cell_type": "code",
   "execution_count": 2,
   "id": "34623261-75b1-4c24-bb9a-121e38d78694",
   "metadata": {},
   "outputs": [],
   "source": [
    "import os\n",
    "import sys\n",
    "from typing import List, Dict, Any\n",
    "from langchain_core.prompts.chat import ChatPromptTemplate, SystemMessagePromptTemplate\n",
    "from langchain_openai.chat_models import ChatOpenAI\n",
    "from langchain.output_parsers import PydanticOutputParser\n",
    "from pydantic.v1 import BaseModel, Field\n",
    "from openai import OpenAIError\n",
    "from dotenv import load_dotenv\n",
    "from tabulate import tabulate\n",
    "from IPython.display import HTML, display\n",
    "from openpyxl import Workbook\n",
    "from openpyxl import reader\n",
    "import pandas as pd\n",
    "\n",
    "loaded = load_dotenv()"
   ]
  },
  {
   "cell_type": "code",
   "execution_count": 3,
   "id": "6b1c4230-dcfe-4481-bf33-b0247fa8c8c2",
   "metadata": {},
   "outputs": [],
   "source": [
    "def get_BReqs_from_ws() -> pd.DataFrame:\n",
    "    wb = reader.excel.load_workbook(filename=\"PoC-v1-Inputs.xlsx\", read_only=True, keep_vba=False, data_only=False, keep_links=True, rich_text=False)\n",
    "    ws_br = wb[\"BReqs\"]\n",
    "    df = pd.DataFrame(ws_br.values)\n",
    "    wb.close()\n",
    "    df = df.rename(columns={0: \"Name\", 1: \"Description\"})\n",
    "    #print(df.head())\n",
    "    return df\n",
    "\n",
    "def get_BReq_context():\n",
    "    df = get_BReqs_from_ws()\n",
    "    result = \"\"\n",
    "    for index, row in df.iterrows():\n",
    "        result += \"Requirement-\" + str(row[\"Name\"]) + \" is that \" + str(row[\"Description\"]) + \". \"\n",
    "    return result"
   ]
  },
  {
   "cell_type": "code",
   "execution_count": 88,
   "id": "d55b0c76-0bf3-4632-987d-b44dbbaee9c4",
   "metadata": {},
   "outputs": [
    {
     "name": "stdout",
     "output_type": "stream",
     "text": [
      "Requirement-Order-Timestamp is that All placed orders must be timestamped as 'order received' at a time between when the user clicked the 'Place order' button and when the payment processor authorized the payment.. \n",
      "[Story(title='Add items to cart', story_text='As a shopper, I want to easily add items to my online shopping cart, so that I can review and purchase them later.', relevance_score=9.0), Story(title='View cart total', story_text='As a customer, I want to see the total cost of items in my shopping cart, so that I can budget and plan my purchase.', relevance_score=8.0), Story(title='Apply promo codes', story_text='As a user, I want to be able to apply promo codes to my shopping cart, so that I can avail discounts on my purchases.', relevance_score=7.0), Story(title='Save cart for later', story_text='As a shopper, I want to save my shopping cart for later, so that I can come back and complete my purchase at a convenient time.', relevance_score=8.0), Story(title='Remove items from cart', story_text='As a buyer, I want to easily remove items from my shopping cart, so that I can adjust my purchase before checkout.', relevance_score=9.0)]\n"
     ]
    }
   ],
   "source": [
    "class Story(BaseModel):\n",
    "    title: str = Field(description=\"The title of the story\")\n",
    "    story_text: str = Field(description=\"The user story in the 'As a... I want to... So That...' format.\")\n",
    "    relevance_score: float = Field(description=\"The relevance of the story to the scenario. 0 is the worst, 10 is the best.\")\n",
    "\n",
    "class Stories(BaseModel):\n",
    "    contents: List[Story] = Field(description=\"A list of Stories\")\n",
    "\n",
    "def create_chat_model(temperature: float = 0.0) -> ChatOpenAI:\n",
    "    try:\n",
    "        return ChatOpenAI(temperature=temperature)\n",
    "    except OpenAIError as e:\n",
    "        print(f\"Error creating ChatOpenAI model: {e}\")\n",
    "        sys.exit(1)\n",
    "\n",
    "def create_parser() -> PydanticOutputParser:\n",
    "    return PydanticOutputParser(pydantic_object=Stories)\n",
    "\n",
    "def create_chat_prompt(template: str) -> ChatPromptTemplate:\n",
    "    system_message_prompt = SystemMessagePromptTemplate.from_template(template)\n",
    "    return ChatPromptTemplate.from_messages([system_message_prompt])\n",
    "\n",
    "def generate_stories(model: ChatOpenAI, chat_prompt: ChatPromptTemplate, parser: PydanticOutputParser,\n",
    "                   input_data: Dict[str, Any]) -> Stories:\n",
    "    try:\n",
    "        prompt_and_model = chat_prompt | model\n",
    "        result = prompt_and_model.invoke(input_data)\n",
    "        return parser.parse(result.content)\n",
    "    except OpenAIError as e:\n",
    "        print(f\"Error generating names: {e}\")\n",
    "        return Stories(contents=[])\n",
    "    except ValueError as e:\n",
    "        print(f\"Error parsing output: {e}\")\n",
    "        return Stories(contents=[])\n",
    "\n",
    "def get_stories(feature: str):\n",
    "    if 'OPENAI_API_KEY' not in os.environ:\n",
    "        print(\"Error: OPENAI_API_KEY environment variable is not set.\")\n",
    "        sys.exit(1)\n",
    "\n",
    "    breqs = get_BReq_context()\n",
    "    print(breqs)\n",
    "    \n",
    "    principles = \"\"\"\n",
    "    - The story should evoke the core goals of users of the {feature} feature.\n",
    "    - The title should be between 3 and 8 words long.\n",
    "    - The user story in the 'As a… I want to… So That…' format. \n",
    "    - The stories should not break the following business requirements {breqs}.\n",
    "    \"\"\"\n",
    "\n",
    "    template = \"\"\"Generate the 5 most relevent user stories for a new custom software capability that offers a {feature} feature.\n",
    "    You must follow the following principles: {principles}\n",
    "    {format_instructions}\n",
    "    \"\"\"\n",
    "\n",
    "    result = Stories(contents=[])\n",
    "    try:\n",
    "        model = create_chat_model()\n",
    "        parser = create_parser()\n",
    "        chat_prompt = create_chat_prompt(template)\n",
    "\n",
    "        input_data = {\n",
    "            \"breqs\": breqs,\n",
    "            \"principles\": principles,\n",
    "            \"feature\": feature,\n",
    "            \"format_instructions\": parser.get_format_instructions(),\n",
    "        }\n",
    "        #print(input_data)\n",
    "\n",
    "        # Method 1: Using generate_stories function\n",
    "        result = generate_stories(model, chat_prompt, parser, input_data)\n",
    "        #print(\"Method 1 result:\")\n",
    "        return result.contents\n",
    "        \n",
    "    except Exception as e:\n",
    "        print(f\"An unexpected error occurred: {e}\")\n",
    "        sys.exit(1)\n",
    "\n",
    "stories = get_stories(\"An online shopping cart\")\n",
    "print(stories)"
   ]
  },
  {
   "cell_type": "code",
   "execution_count": 89,
   "id": "95f54088-3e0d-4513-85aa-5c5db8c89248",
   "metadata": {},
   "outputs": [
    {
     "data": {
      "text/html": [
       "<table>\n",
       "<thead>\n",
       "<tr><th>title                 </th><th>story_text                                                                                                                     </th><th style=\"text-align: right;\">  relevance_score</th></tr>\n",
       "</thead>\n",
       "<tbody>\n",
       "<tr><td>Add items to cart     </td><td>As a shopper, I want to easily add items to my online shopping cart, so that I can review and purchase them later.             </td><td style=\"text-align: right;\">                9</td></tr>\n",
       "<tr><td>View cart total       </td><td>As a customer, I want to see the total cost of items in my shopping cart, so that I can budget and plan my purchase.           </td><td style=\"text-align: right;\">                8</td></tr>\n",
       "<tr><td>Apply promo codes     </td><td>As a user, I want to be able to apply promo codes to my shopping cart, so that I can avail discounts on my purchases.          </td><td style=\"text-align: right;\">                7</td></tr>\n",
       "<tr><td>Save cart for later   </td><td>As a shopper, I want to save my shopping cart for later, so that I can come back and complete my purchase at a convenient time.</td><td style=\"text-align: right;\">                8</td></tr>\n",
       "<tr><td>Remove items from cart</td><td>As a buyer, I want to easily remove items from my shopping cart, so that I can adjust my purchase before checkout.             </td><td style=\"text-align: right;\">                9</td></tr>\n",
       "</tbody>\n",
       "</table>"
      ],
      "text/plain": [
       "<IPython.core.display.HTML object>"
      ]
     },
     "metadata": {},
     "output_type": "display_data"
    }
   ],
   "source": [
    "stories_dicts = [story.__dict__ for story in stories]\n",
    "table = tabulate(stories_dicts, tablefmt='html', headers=\"keys\")\n",
    "display(HTML(table))"
   ]
  }
 ],
 "metadata": {
  "kernelspec": {
   "display_name": "Python 3 (ipykernel)",
   "language": "python",
   "name": "python3"
  },
  "language_info": {
   "codemirror_mode": {
    "name": "ipython",
    "version": 3
   },
   "file_extension": ".py",
   "mimetype": "text/x-python",
   "name": "python",
   "nbconvert_exporter": "python",
   "pygments_lexer": "ipython3",
   "version": "3.11.5"
  }
 },
 "nbformat": 4,
 "nbformat_minor": 5
}
