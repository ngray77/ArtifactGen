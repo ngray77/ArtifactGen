{
 "cells": [
  {
   "cell_type": "raw",
   "id": "f9789121-a5bc-469a-8bd2-fc7114003289",
   "metadata": {},
   "source": [
    "%pip install openpyxl"
   ]
  },
  {
   "cell_type": "code",
   "execution_count": 2,
   "id": "b6f0b7ee-362d-4b85-92ab-9867a3d7a4d2",
   "metadata": {},
   "outputs": [
    {
     "name": "stdout",
     "output_type": "stream",
     "text": [
      "  EntityName                                  EntityDescription\n",
      "0       User  An authenticated, unauthenticated, or email-on...\n",
      "1   CartItem  A instance of a product and it's configuration...\n",
      "2    Product  An inventoried, digital, or drop-ship item tha...\n"
     ]
    }
   ],
   "source": [
    "from openpyxl import Workbook\n",
    "from openpyxl import reader\n",
    "import pandas as pd\n",
    "\n",
    "wb = reader.excel.load_workbook(filename=\"Inputs.xlsx\", read_only=True, keep_vba=False, data_only=False, keep_links=True, rich_text=False)\n",
    "ws_ent = wb[\"Entities\"]\n",
    "\n",
    "df = pd.DataFrame(ws_ent.values)\n",
    "wb.close()\n",
    "\n",
    "df = df.rename(columns={0: \"EntityName\", 1: \"EntityDescription\"})\n",
    "print(df.head())"
   ]
  },
  {
   "cell_type": "code",
   "execution_count": null,
   "id": "c63a4b1a-ee24-48d7-a9b2-b14fd35fdf67",
   "metadata": {},
   "outputs": [],
   "source": []
  }
 ],
 "metadata": {
  "kernelspec": {
   "display_name": "Python 3 (ipykernel)",
   "language": "python",
   "name": "python3"
  },
  "language_info": {
   "codemirror_mode": {
    "name": "ipython",
    "version": 3
   },
   "file_extension": ".py",
   "mimetype": "text/x-python",
   "name": "python",
   "nbconvert_exporter": "python",
   "pygments_lexer": "ipython3",
   "version": "3.11.5"
  }
 },
 "nbformat": 4,
 "nbformat_minor": 5
}
