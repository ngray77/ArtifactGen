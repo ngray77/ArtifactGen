{
 "cells": [
  {
   "cell_type": "markdown",
   "id": "fbb4c2ab-e858-4fb7-bd73-b4894bbe67c5",
   "metadata": {},
   "source": [
    "### Init (You'll need a .env file)"
   ]
  },
  {
   "cell_type": "raw",
   "id": "fa043d8a-e2e0-4b24-9995-cab068e4beb2",
   "metadata": {},
   "source": [
    "# This is a raw text block, convert it to a code block to make it executable.\n",
    "%pip install langchain\n",
    "%pip install langchain-openai\n",
    "%pip install python-dotenv\n",
    "%pip install tabulate\n",
    "%pip install openpyxl"
   ]
  },
  {
   "cell_type": "code",
   "execution_count": 81,
   "id": "34623261-75b1-4c24-bb9a-121e38d78694",
   "metadata": {
    "scrolled": true
   },
   "outputs": [],
   "source": [
    "inputFileRoot = \"PoC-v2-Data\"\n",
    "actuallySaveData = True\n",
    "\n",
    "import os\n",
    "import sys\n",
    "import re\n",
    "from typing import List, Dict, Any\n",
    "from langchain_core.prompts.chat import ChatPromptTemplate, SystemMessagePromptTemplate\n",
    "from langchain_openai.chat_models import ChatOpenAI\n",
    "from langchain.output_parsers import PydanticOutputParser\n",
    "from pydantic.v1 import BaseModel, Field\n",
    "from openai import OpenAIError\n",
    "from dotenv import load_dotenv\n",
    "from tabulate import tabulate\n",
    "from IPython.display import HTML, display\n",
    "from openpyxl import Workbook, reader, load_workbook\n",
    "import pandas as pd\n",
    "\n",
    "# The API key belongs in the .env file\n",
    "loaded = load_dotenv()\n",
    "\n",
    "from langchain.globals import set_verbose, set_debug\n",
    "set_debug(True)\n",
    "set_verbose(True)"
   ]
  },
  {
   "cell_type": "markdown",
   "id": "be15be17-9054-4c2e-9fba-949cdf604f22",
   "metadata": {},
   "source": [
    "### Find the most recent data file"
   ]
  },
  {
   "cell_type": "code",
   "execution_count": 82,
   "id": "e4d874ae-f3f8-4b4e-a58c-be4a8450bb95",
   "metadata": {},
   "outputs": [],
   "source": [
    "# Example usage:\n",
    "#filename = \"base.123.xlsx\"\n",
    "#new_filename = increment_version(filename)\n",
    "#print(new_filename)  # Output: base.124.xlsx\n",
    "def increment_version(filename):\n",
    "    try:\n",
    "        root, version, extension = filename.split('.')\n",
    "        version = int(version) + 1\n",
    "        return f\"{root}.{version}.{extension}\"\n",
    "    except ValueError:\n",
    "        raise ValueError(\"Filename format should be 'root.version.extension' and version should be an integer\")\n",
    "\n",
    "# Example usage:\n",
    "#directory = \".\"\n",
    "#root_segment = \"PoC-v2-Data\"\n",
    "#highest_version_file = get_highest_version_file(directory, root_segment)\n",
    "#print(highest_version_file)\n",
    "def get_highest_version_file(directory, root_segment):\n",
    "    highest_version = -1\n",
    "    highest_version_file = None\n",
    "    \n",
    "    pattern = re.compile(rf'^{root_segment}\\.(\\d+)\\.xlsx$')\n",
    "    \n",
    "    for filename in os.listdir(directory):\n",
    "        match = pattern.match(filename)\n",
    "        if match:\n",
    "            version = int(match.group(1))\n",
    "            if version > highest_version:\n",
    "                highest_version = version\n",
    "                highest_version_file = filename\n",
    "    \n",
    "    return highest_version_file\n",
    "\n",
    "latestDataFileName = get_highest_version_file(\".\", inputFileRoot)"
   ]
  },
  {
   "cell_type": "markdown",
   "id": "5d9e49bd-0c4b-47fe-a822-e379f3d77774",
   "metadata": {},
   "source": [
    "### Load Business Requirements from the spreadsheet"
   ]
  },
  {
   "cell_type": "code",
   "execution_count": 83,
   "id": "6b1c4230-dcfe-4481-bf33-b0247fa8c8c2",
   "metadata": {},
   "outputs": [],
   "source": [
    "def get_BReqs_from_ws() -> pd.DataFrame:\n",
    "    wb = reader.excel.load_workbook(filename=latestDataFileName, read_only=True, keep_vba=False, data_only=False, keep_links=True, rich_text=False)\n",
    "    ws_br = wb[\"BReqs\"]\n",
    "    df = pd.DataFrame(ws_br.values)\n",
    "    wb.close()\n",
    "    df = df.rename(columns={0: \"Name\", 1: \"Description\"})\n",
    "    #print(df.head())\n",
    "    return df\n",
    "\n",
    "def get_BReq_context():\n",
    "    df = get_BReqs_from_ws()\n",
    "    result = \"\"\n",
    "    for index, row in df.iterrows():\n",
    "        result += \"Requirement-\" + str(row[\"Name\"]) + \" is that \" + str(row[\"Description\"]) + \". \"\n",
    "    return result"
   ]
  },
  {
   "cell_type": "markdown",
   "id": "94d504d4-e493-4d49-8823-3c6e27f93adc",
   "metadata": {},
   "source": [
    "### Generate some stories"
   ]
  },
  {
   "cell_type": "code",
   "execution_count": 84,
   "id": "d55b0c76-0bf3-4632-987d-b44dbbaee9c4",
   "metadata": {},
   "outputs": [],
   "source": [
    "class Story(BaseModel):\n",
    "    title: str = Field(description=\"The title of the story\")\n",
    "    story_text: str = Field(description=\"The user story in the 'As a... I want to... So That...' format.\")\n",
    "    relevance_score: float = Field(description=\"The relevance of the story to the scenario. 0 is the worst, 10 is the best.\")\n",
    "\n",
    "class Stories(BaseModel):\n",
    "    contents: List[Story] = Field(description=\"A list of Stories\")\n",
    "\n",
    "def create_chat_model(temperature: float = 0.0) -> ChatOpenAI:\n",
    "    try:\n",
    "        return ChatOpenAI(temperature=temperature)\n",
    "    except OpenAIError as e:\n",
    "        print(f\"Error creating ChatOpenAI model: {e}\")\n",
    "        sys.exit(1)\n",
    "\n",
    "def create_parser() -> PydanticOutputParser:\n",
    "    return PydanticOutputParser(pydantic_object=Stories)\n",
    "\n",
    "def create_chat_prompt(template: str) -> ChatPromptTemplate:\n",
    "    system_message_prompt = SystemMessagePromptTemplate.from_template(template)\n",
    "    return ChatPromptTemplate.from_messages([system_message_prompt])\n",
    "\n",
    "def generate_stories(model: ChatOpenAI, chat_prompt: ChatPromptTemplate, parser: PydanticOutputParser,\n",
    "                   input_data: Dict[str, Any]) -> Stories:\n",
    "    try:\n",
    "        print(\"***Chat Prompt***\")\n",
    "        print(chat_prompt)\n",
    "        print(\"***Input Data***\")\n",
    "        print(input_data)\n",
    "        prompt_and_model = chat_prompt | model\n",
    "        result = prompt_and_model.invoke(input_data)\n",
    "        return parser.parse(result.content)\n",
    "    except OpenAIError as e:\n",
    "        print(f\"Error generating names: {e}\")\n",
    "        return Stories(contents=[])\n",
    "    except ValueError as e:\n",
    "        print(f\"Error parsing output: {e}\")\n",
    "        print(f\"The actual response was {result}\")\n",
    "        return Stories(contents=[])\n",
    "\n",
    "def get_stories(feature: str):\n",
    "    if 'OPENAI_API_KEY' not in os.environ:\n",
    "        print(\"Error: OPENAI_API_KEY environment variable is not set.\")\n",
    "        sys.exit(1)\n",
    "\n",
    "    breqs = get_BReq_context()\n",
    "    print(breqs)\n",
    "    \n",
    "    principles = \"\"\"\n",
    "    - The story should evoke the core goals of users of the {feature} feature.\n",
    "    - The title should be between 3 and 8 words long.\n",
    "    - The user story must be in the 'As a… I want to… So That…' format. \n",
    "    - Only stories that do not conflict with the following hard requirements may be generated:\n",
    "    {breqs}\n",
    "    \n",
    "    \"\"\"\n",
    "\n",
    "    template = \"\"\"Generate the 10 most relevent user stories for a new custom software capability that offers a {feature} feature.\n",
    "    You must follow the following principles: {principles}\n",
    "    {format_instructions}\n",
    "    \"\"\"\n",
    "\n",
    "    result = Stories(contents=[])\n",
    "    try:\n",
    "        model = create_chat_model()\n",
    "        parser = create_parser()\n",
    "        chat_prompt = create_chat_prompt(template)\n",
    "\n",
    "        input_data = {\n",
    "            \"breqs\": breqs,\n",
    "            \"principles\": principles,\n",
    "            \"feature\": feature,\n",
    "            \"format_instructions\": parser.get_format_instructions(),\n",
    "        }\n",
    "        #print(input_data)\n",
    "\n",
    "        result = generate_stories(model, chat_prompt, parser, input_data)\n",
    "        return result.contents\n",
    "        \n",
    "    except Exception as e:\n",
    "        print(f\"An unexpected error occurred: {e}\")\n",
    "        sys.exit(1)"
   ]
  },
  {
   "cell_type": "markdown",
   "id": "c8248291-5193-4c49-8ebc-261b89225f0e",
   "metadata": {},
   "source": [
    "### Run the procs so far"
   ]
  },
  {
   "cell_type": "code",
   "execution_count": 85,
   "id": "ec88a267-bb44-4135-ad47-e5986634330e",
   "metadata": {},
   "outputs": [
    {
     "name": "stdout",
     "output_type": "stream",
     "text": [
      "Requirement-Cart-Security is that Users must not be permitted to save their cart for later.. \n",
      "***Chat Prompt***\n",
      "input_variables=['feature', 'format_instructions', 'principles'] messages=[SystemMessagePromptTemplate(prompt=PromptTemplate(input_variables=['feature', 'format_instructions', 'principles'], template='Generate the 10 most relevent user stories for a new custom software capability that offers a {feature} feature.\\n    You must follow the following principles: {principles}\\n    {format_instructions}\\n    '))]\n",
      "***Input Data***\n",
      "{'breqs': 'Requirement-Cart-Security is that Users must not be permitted to save their cart for later.. ', 'principles': \"\\n    - The story should evoke the core goals of users of the {feature} feature.\\n    - The title should be between 3 and 8 words long.\\n    - The user story must be in the 'As a… I want to… So That…' format. \\n    - Only stories that do not conflict with the following hard requirements may be generated:\\n    {breqs}\\n    \\n    \", 'feature': 'An online shopping cart', 'format_instructions': 'The output should be formatted as a JSON instance that conforms to the JSON schema below.\\n\\nAs an example, for the schema {\"properties\": {\"foo\": {\"title\": \"Foo\", \"description\": \"a list of strings\", \"type\": \"array\", \"items\": {\"type\": \"string\"}}}, \"required\": [\"foo\"]}\\nthe object {\"foo\": [\"bar\", \"baz\"]} is a well-formatted instance of the schema. The object {\"properties\": {\"foo\": [\"bar\", \"baz\"]}} is not well-formatted.\\n\\nHere is the output schema:\\n```\\n{\"properties\": {\"contents\": {\"title\": \"Contents\", \"description\": \"A list of Stories\", \"type\": \"array\", \"items\": {\"$ref\": \"#/definitions/Story\"}}}, \"required\": [\"contents\"], \"definitions\": {\"Story\": {\"title\": \"Story\", \"type\": \"object\", \"properties\": {\"title\": {\"title\": \"Title\", \"description\": \"The title of the story\", \"type\": \"string\"}, \"story_text\": {\"title\": \"Story Text\", \"description\": \"The user story in the \\'As a... I want to... So That...\\' format.\", \"type\": \"string\"}, \"relevance_score\": {\"title\": \"Relevance Score\", \"description\": \"The relevance of the story to the scenario. 0 is the worst, 10 is the best.\", \"type\": \"number\"}}, \"required\": [\"title\", \"story_text\", \"relevance_score\"]}}}\\n```'}\n",
      "\u001b[32;1m\u001b[1;3m[chain/start]\u001b[0m \u001b[1m[chain:RunnableSequence] Entering Chain run with input:\n",
      "\u001b[0m{\n",
      "  \"breqs\": \"Requirement-Cart-Security is that Users must not be permitted to save their cart for later.. \",\n",
      "  \"principles\": \"\\n    - The story should evoke the core goals of users of the {feature} feature.\\n    - The title should be between 3 and 8 words long.\\n    - The user story must be in the 'As a… I want to… So That…' format. \\n    - Only stories that do not conflict with the following hard requirements may be generated:\\n    {breqs}\\n    \\n    \",\n",
      "  \"feature\": \"An online shopping cart\",\n",
      "  \"format_instructions\": \"The output should be formatted as a JSON instance that conforms to the JSON schema below.\\n\\nAs an example, for the schema {\\\"properties\\\": {\\\"foo\\\": {\\\"title\\\": \\\"Foo\\\", \\\"description\\\": \\\"a list of strings\\\", \\\"type\\\": \\\"array\\\", \\\"items\\\": {\\\"type\\\": \\\"string\\\"}}}, \\\"required\\\": [\\\"foo\\\"]}\\nthe object {\\\"foo\\\": [\\\"bar\\\", \\\"baz\\\"]} is a well-formatted instance of the schema. The object {\\\"properties\\\": {\\\"foo\\\": [\\\"bar\\\", \\\"baz\\\"]}} is not well-formatted.\\n\\nHere is the output schema:\\n```\\n{\\\"properties\\\": {\\\"contents\\\": {\\\"title\\\": \\\"Contents\\\", \\\"description\\\": \\\"A list of Stories\\\", \\\"type\\\": \\\"array\\\", \\\"items\\\": {\\\"$ref\\\": \\\"#/definitions/Story\\\"}}}, \\\"required\\\": [\\\"contents\\\"], \\\"definitions\\\": {\\\"Story\\\": {\\\"title\\\": \\\"Story\\\", \\\"type\\\": \\\"object\\\", \\\"properties\\\": {\\\"title\\\": {\\\"title\\\": \\\"Title\\\", \\\"description\\\": \\\"The title of the story\\\", \\\"type\\\": \\\"string\\\"}, \\\"story_text\\\": {\\\"title\\\": \\\"Story Text\\\", \\\"description\\\": \\\"The user story in the 'As a... I want to... So That...' format.\\\", \\\"type\\\": \\\"string\\\"}, \\\"relevance_score\\\": {\\\"title\\\": \\\"Relevance Score\\\", \\\"description\\\": \\\"The relevance of the story to the scenario. 0 is the worst, 10 is the best.\\\", \\\"type\\\": \\\"number\\\"}}, \\\"required\\\": [\\\"title\\\", \\\"story_text\\\", \\\"relevance_score\\\"]}}}\\n```\"\n",
      "}\n",
      "\u001b[32;1m\u001b[1;3m[chain/start]\u001b[0m \u001b[1m[chain:RunnableSequence > prompt:ChatPromptTemplate] Entering Prompt run with input:\n",
      "\u001b[0m{\n",
      "  \"breqs\": \"Requirement-Cart-Security is that Users must not be permitted to save their cart for later.. \",\n",
      "  \"principles\": \"\\n    - The story should evoke the core goals of users of the {feature} feature.\\n    - The title should be between 3 and 8 words long.\\n    - The user story must be in the 'As a… I want to… So That…' format. \\n    - Only stories that do not conflict with the following hard requirements may be generated:\\n    {breqs}\\n    \\n    \",\n",
      "  \"feature\": \"An online shopping cart\",\n",
      "  \"format_instructions\": \"The output should be formatted as a JSON instance that conforms to the JSON schema below.\\n\\nAs an example, for the schema {\\\"properties\\\": {\\\"foo\\\": {\\\"title\\\": \\\"Foo\\\", \\\"description\\\": \\\"a list of strings\\\", \\\"type\\\": \\\"array\\\", \\\"items\\\": {\\\"type\\\": \\\"string\\\"}}}, \\\"required\\\": [\\\"foo\\\"]}\\nthe object {\\\"foo\\\": [\\\"bar\\\", \\\"baz\\\"]} is a well-formatted instance of the schema. The object {\\\"properties\\\": {\\\"foo\\\": [\\\"bar\\\", \\\"baz\\\"]}} is not well-formatted.\\n\\nHere is the output schema:\\n```\\n{\\\"properties\\\": {\\\"contents\\\": {\\\"title\\\": \\\"Contents\\\", \\\"description\\\": \\\"A list of Stories\\\", \\\"type\\\": \\\"array\\\", \\\"items\\\": {\\\"$ref\\\": \\\"#/definitions/Story\\\"}}}, \\\"required\\\": [\\\"contents\\\"], \\\"definitions\\\": {\\\"Story\\\": {\\\"title\\\": \\\"Story\\\", \\\"type\\\": \\\"object\\\", \\\"properties\\\": {\\\"title\\\": {\\\"title\\\": \\\"Title\\\", \\\"description\\\": \\\"The title of the story\\\", \\\"type\\\": \\\"string\\\"}, \\\"story_text\\\": {\\\"title\\\": \\\"Story Text\\\", \\\"description\\\": \\\"The user story in the 'As a... I want to... So That...' format.\\\", \\\"type\\\": \\\"string\\\"}, \\\"relevance_score\\\": {\\\"title\\\": \\\"Relevance Score\\\", \\\"description\\\": \\\"The relevance of the story to the scenario. 0 is the worst, 10 is the best.\\\", \\\"type\\\": \\\"number\\\"}}, \\\"required\\\": [\\\"title\\\", \\\"story_text\\\", \\\"relevance_score\\\"]}}}\\n```\"\n",
      "}\n",
      "\u001b[36;1m\u001b[1;3m[chain/end]\u001b[0m \u001b[1m[chain:RunnableSequence > prompt:ChatPromptTemplate] [0ms] Exiting Prompt run with output:\n",
      "\u001b[0m[outputs]\n",
      "\u001b[32;1m\u001b[1;3m[llm/start]\u001b[0m \u001b[1m[chain:RunnableSequence > llm:ChatOpenAI] Entering LLM run with input:\n",
      "\u001b[0m{\n",
      "  \"prompts\": [\n",
      "    \"System: Generate the 10 most relevent user stories for a new custom software capability that offers a An online shopping cart feature.\\n    You must follow the following principles: \\n    - The story should evoke the core goals of users of the {feature} feature.\\n    - The title should be between 3 and 8 words long.\\n    - The user story must be in the 'As a… I want to… So That…' format. \\n    - Only stories that do not conflict with the following hard requirements may be generated:\\n    {breqs}\\n    \\n    \\n    The output should be formatted as a JSON instance that conforms to the JSON schema below.\\n\\nAs an example, for the schema {\\\"properties\\\": {\\\"foo\\\": {\\\"title\\\": \\\"Foo\\\", \\\"description\\\": \\\"a list of strings\\\", \\\"type\\\": \\\"array\\\", \\\"items\\\": {\\\"type\\\": \\\"string\\\"}}}, \\\"required\\\": [\\\"foo\\\"]}\\nthe object {\\\"foo\\\": [\\\"bar\\\", \\\"baz\\\"]} is a well-formatted instance of the schema. The object {\\\"properties\\\": {\\\"foo\\\": [\\\"bar\\\", \\\"baz\\\"]}} is not well-formatted.\\n\\nHere is the output schema:\\n```\\n{\\\"properties\\\": {\\\"contents\\\": {\\\"title\\\": \\\"Contents\\\", \\\"description\\\": \\\"A list of Stories\\\", \\\"type\\\": \\\"array\\\", \\\"items\\\": {\\\"$ref\\\": \\\"#/definitions/Story\\\"}}}, \\\"required\\\": [\\\"contents\\\"], \\\"definitions\\\": {\\\"Story\\\": {\\\"title\\\": \\\"Story\\\", \\\"type\\\": \\\"object\\\", \\\"properties\\\": {\\\"title\\\": {\\\"title\\\": \\\"Title\\\", \\\"description\\\": \\\"The title of the story\\\", \\\"type\\\": \\\"string\\\"}, \\\"story_text\\\": {\\\"title\\\": \\\"Story Text\\\", \\\"description\\\": \\\"The user story in the 'As a... I want to... So That...' format.\\\", \\\"type\\\": \\\"string\\\"}, \\\"relevance_score\\\": {\\\"title\\\": \\\"Relevance Score\\\", \\\"description\\\": \\\"The relevance of the story to the scenario. 0 is the worst, 10 is the best.\\\", \\\"type\\\": \\\"number\\\"}}, \\\"required\\\": [\\\"title\\\", \\\"story_text\\\", \\\"relevance_score\\\"]}}}\\n```\"\n",
      "  ]\n",
      "}\n",
      "\u001b[36;1m\u001b[1;3m[llm/end]\u001b[0m \u001b[1m[chain:RunnableSequence > llm:ChatOpenAI] [3.88s] Exiting LLM run with output:\n",
      "\u001b[0m{\n",
      "  \"generations\": [\n",
      "    [\n",
      "      {\n",
      "        \"text\": \"{\\n    \\\"properties\\\": {\\n        \\\"contents\\\": {\\n            \\\"title\\\": \\\"Contents\\\",\\n            \\\"description\\\": \\\"A list of Stories\\\",\\n            \\\"type\\\": \\\"array\\\",\\n            \\\"items\\\": {\\n                \\\"$ref\\\": \\\"#/definitions/Story\\\"\\n            }\\n        }\\n    },\\n    \\\"required\\\": [\\\"contents\\\"],\\n    \\\"definitions\\\": {\\n        \\\"Story\\\": {\\n            \\\"title\\\": \\\"Story\\\",\\n            \\\"type\\\": \\\"object\\\",\\n            \\\"properties\\\": {\\n                \\\"title\\\": {\\n                    \\\"title\\\": \\\"Title\\\",\\n                    \\\"description\\\": \\\"The title of the story\\\",\\n                    \\\"type\\\": \\\"string\\\"\\n                },\\n                \\\"story_text\\\": {\\n                    \\\"title\\\": \\\"Story Text\\\",\\n                    \\\"description\\\": \\\"The user story in the 'As a... I want to... So That...' format.\\\",\\n                    \\\"type\\\": \\\"string\\\"\\n                },\\n                \\\"relevance_score\\\": {\\n                    \\\"title\\\": \\\"Relevance Score\\\",\\n                    \\\"description\\\": \\\"The relevance of the story to the scenario. 0 is the worst, 10 is the best.\\\",\\n                    \\\"type\\\": \\\"number\\\"\\n                }\\n            },\\n            \\\"required\\\": [\\\"title\\\", \\\"story_text\\\", \\\"relevance_score\\\"]\\n        }\\n    }\\n}\",\n",
      "        \"generation_info\": {\n",
      "          \"finish_reason\": \"stop\",\n",
      "          \"logprobs\": null\n",
      "        },\n",
      "        \"type\": \"ChatGeneration\",\n",
      "        \"message\": {\n",
      "          \"lc\": 1,\n",
      "          \"type\": \"constructor\",\n",
      "          \"id\": [\n",
      "            \"langchain\",\n",
      "            \"schema\",\n",
      "            \"messages\",\n",
      "            \"AIMessage\"\n",
      "          ],\n",
      "          \"kwargs\": {\n",
      "            \"content\": \"{\\n    \\\"properties\\\": {\\n        \\\"contents\\\": {\\n            \\\"title\\\": \\\"Contents\\\",\\n            \\\"description\\\": \\\"A list of Stories\\\",\\n            \\\"type\\\": \\\"array\\\",\\n            \\\"items\\\": {\\n                \\\"$ref\\\": \\\"#/definitions/Story\\\"\\n            }\\n        }\\n    },\\n    \\\"required\\\": [\\\"contents\\\"],\\n    \\\"definitions\\\": {\\n        \\\"Story\\\": {\\n            \\\"title\\\": \\\"Story\\\",\\n            \\\"type\\\": \\\"object\\\",\\n            \\\"properties\\\": {\\n                \\\"title\\\": {\\n                    \\\"title\\\": \\\"Title\\\",\\n                    \\\"description\\\": \\\"The title of the story\\\",\\n                    \\\"type\\\": \\\"string\\\"\\n                },\\n                \\\"story_text\\\": {\\n                    \\\"title\\\": \\\"Story Text\\\",\\n                    \\\"description\\\": \\\"The user story in the 'As a... I want to... So That...' format.\\\",\\n                    \\\"type\\\": \\\"string\\\"\\n                },\\n                \\\"relevance_score\\\": {\\n                    \\\"title\\\": \\\"Relevance Score\\\",\\n                    \\\"description\\\": \\\"The relevance of the story to the scenario. 0 is the worst, 10 is the best.\\\",\\n                    \\\"type\\\": \\\"number\\\"\\n                }\\n            },\\n            \\\"required\\\": [\\\"title\\\", \\\"story_text\\\", \\\"relevance_score\\\"]\\n        }\\n    }\\n}\",\n",
      "            \"response_metadata\": {\n",
      "              \"token_usage\": {\n",
      "                \"completion_tokens\": 244,\n",
      "                \"prompt_tokens\": 436,\n",
      "                \"total_tokens\": 680\n",
      "              },\n",
      "              \"model_name\": \"gpt-3.5-turbo-0125\",\n",
      "              \"system_fingerprint\": null,\n",
      "              \"finish_reason\": \"stop\",\n",
      "              \"logprobs\": null\n",
      "            },\n",
      "            \"type\": \"ai\",\n",
      "            \"id\": \"run-2a9a57d3-3a7d-423d-957b-0bd29b1aaed0-0\",\n",
      "            \"usage_metadata\": {\n",
      "              \"input_tokens\": 436,\n",
      "              \"output_tokens\": 244,\n",
      "              \"total_tokens\": 680\n",
      "            },\n",
      "            \"tool_calls\": [],\n",
      "            \"invalid_tool_calls\": []\n",
      "          }\n",
      "        }\n",
      "      }\n",
      "    ]\n",
      "  ],\n",
      "  \"llm_output\": {\n",
      "    \"token_usage\": {\n",
      "      \"completion_tokens\": 244,\n",
      "      \"prompt_tokens\": 436,\n",
      "      \"total_tokens\": 680\n",
      "    },\n",
      "    \"model_name\": \"gpt-3.5-turbo-0125\",\n",
      "    \"system_fingerprint\": null\n",
      "  },\n",
      "  \"run\": null\n",
      "}\n",
      "\u001b[36;1m\u001b[1;3m[chain/end]\u001b[0m \u001b[1m[chain:RunnableSequence] [3.88s] Exiting Chain run with output:\n",
      "\u001b[0m[outputs]\n",
      "Error parsing output: Failed to parse Stories from completion {\"properties\": {\"contents\": {\"title\": \"Contents\", \"description\": \"A list of Stories\", \"type\": \"array\", \"items\": {\"$ref\": \"#/definitions/Story\"}}}, \"required\": [\"contents\"], \"definitions\": {\"Story\": {\"title\": \"Story\", \"type\": \"object\", \"properties\": {\"title\": {\"title\": \"Title\", \"description\": \"The title of the story\", \"type\": \"string\"}, \"story_text\": {\"title\": \"Story Text\", \"description\": \"The user story in the 'As a... I want to... So That...' format.\", \"type\": \"string\"}, \"relevance_score\": {\"title\": \"Relevance Score\", \"description\": \"The relevance of the story to the scenario. 0 is the worst, 10 is the best.\", \"type\": \"number\"}}, \"required\": [\"title\", \"story_text\", \"relevance_score\"]}}}. Got: 1 validation error for Stories\n",
      "contents\n",
      "  field required (type=value_error.missing)\n",
      "The actual response was content='{\\n    \"properties\": {\\n        \"contents\": {\\n            \"title\": \"Contents\",\\n            \"description\": \"A list of Stories\",\\n            \"type\": \"array\",\\n            \"items\": {\\n                \"$ref\": \"#/definitions/Story\"\\n            }\\n        }\\n    },\\n    \"required\": [\"contents\"],\\n    \"definitions\": {\\n        \"Story\": {\\n            \"title\": \"Story\",\\n            \"type\": \"object\",\\n            \"properties\": {\\n                \"title\": {\\n                    \"title\": \"Title\",\\n                    \"description\": \"The title of the story\",\\n                    \"type\": \"string\"\\n                },\\n                \"story_text\": {\\n                    \"title\": \"Story Text\",\\n                    \"description\": \"The user story in the \\'As a... I want to... So That...\\' format.\",\\n                    \"type\": \"string\"\\n                },\\n                \"relevance_score\": {\\n                    \"title\": \"Relevance Score\",\\n                    \"description\": \"The relevance of the story to the scenario. 0 is the worst, 10 is the best.\",\\n                    \"type\": \"number\"\\n                }\\n            },\\n            \"required\": [\"title\", \"story_text\", \"relevance_score\"]\\n        }\\n    }\\n}' response_metadata={'token_usage': {'completion_tokens': 244, 'prompt_tokens': 436, 'total_tokens': 680}, 'model_name': 'gpt-3.5-turbo-0125', 'system_fingerprint': None, 'finish_reason': 'stop', 'logprobs': None} id='run-2a9a57d3-3a7d-423d-957b-0bd29b1aaed0-0' usage_metadata={'input_tokens': 436, 'output_tokens': 244, 'total_tokens': 680}\n"
     ]
    }
   ],
   "source": [
    "stories = get_stories(\"An online shopping cart\")\n",
    "#print(stories)"
   ]
  },
  {
   "cell_type": "code",
   "execution_count": 86,
   "id": "95f54088-3e0d-4513-85aa-5c5db8c89248",
   "metadata": {
    "scrolled": true
   },
   "outputs": [
    {
     "data": {
      "text/html": [],
      "text/plain": [
       "<IPython.core.display.HTML object>"
      ]
     },
     "metadata": {},
     "output_type": "display_data"
    }
   ],
   "source": [
    "stories_dicts = [story.__dict__ for story in stories]\n",
    "table = tabulate(stories_dicts, tablefmt='html', headers=\"keys\")\n",
    "display(HTML(table))"
   ]
  },
  {
   "cell_type": "markdown",
   "id": "48b83ee4-6249-41f7-ae71-594a08026d33",
   "metadata": {},
   "source": [
    "### Save the new stories to the 'Stories' worksheet"
   ]
  },
  {
   "cell_type": "code",
   "execution_count": 87,
   "id": "14739742-c7f7-46d5-8d75-52b974ec1267",
   "metadata": {},
   "outputs": [],
   "source": [
    "def save_stories_to_excel(src_file_path: str, dst_file_path: str, sheet_name: str, stories: Stories):\n",
    "    # Open the workbook and select the worksheet\n",
    "    workbook = load_workbook(src_file_path)\n",
    "    if sheet_name in workbook.sheetnames:\n",
    "        sheet = workbook[sheet_name]\n",
    "    else:\n",
    "        sheet = workbook.create_sheet(sheet_name)\n",
    "\n",
    "    # Delete all rows below the header\n",
    "    sheet.delete_rows(2, sheet.max_row)\n",
    "\n",
    "    # Define the headers\n",
    "    #headers = [\"Title\", \"Story Text\", \"Relevance Score\"]\n",
    "    #sheet.append(headers)\n",
    "    \n",
    "    # Write the data to the worksheet\n",
    "    for story in stories:\n",
    "        sheet.append([story.title, story.story_text, story.relevance_score])\n",
    "    \n",
    "    # Save the workbook\n",
    "    workbook.save(dst_file_path)\n",
    "    workbook.close()\n",
    "\n",
    "# Save these stories to an Excel file\n",
    "nextFileName = increment_version(latestDataFileName)\n",
    "if actuallySaveData:\n",
    "    save_stories_to_excel(latestDataFileName, nextFileName, \"Stories\", stories)"
   ]
  },
  {
   "cell_type": "code",
   "execution_count": 88,
   "id": "2a2d37f1-f9af-42af-aa3e-6536d77741c3",
   "metadata": {},
   "outputs": [
    {
     "name": "stdout",
     "output_type": "stream",
     "text": [
      "Sheet name: BReqs\n"
     ]
    },
    {
     "data": {
      "text/html": [
       "<div>\n",
       "<style scoped>\n",
       "    .dataframe tbody tr th:only-of-type {\n",
       "        vertical-align: middle;\n",
       "    }\n",
       "\n",
       "    .dataframe tbody tr th {\n",
       "        vertical-align: top;\n",
       "    }\n",
       "\n",
       "    .dataframe thead th {\n",
       "        text-align: right;\n",
       "    }\n",
       "</style>\n",
       "<table border=\"1\" class=\"dataframe\">\n",
       "  <thead>\n",
       "    <tr style=\"text-align: right;\">\n",
       "      <th></th>\n",
       "      <th>Cart-Security</th>\n",
       "      <th>Users must not be permitted to save their cart for later.</th>\n",
       "    </tr>\n",
       "  </thead>\n",
       "  <tbody>\n",
       "  </tbody>\n",
       "</table>\n",
       "</div>"
      ],
      "text/plain": [
       "Empty DataFrame\n",
       "Columns: [Cart-Security, Users must not be permitted to save their cart for later.]\n",
       "Index: []"
      ]
     },
     "metadata": {},
     "output_type": "display_data"
    },
    {
     "name": "stdout",
     "output_type": "stream",
     "text": [
      "Sheet name: Features\n"
     ]
    },
    {
     "data": {
      "text/html": [
       "<div>\n",
       "<style scoped>\n",
       "    .dataframe tbody tr th:only-of-type {\n",
       "        vertical-align: middle;\n",
       "    }\n",
       "\n",
       "    .dataframe tbody tr th {\n",
       "        vertical-align: top;\n",
       "    }\n",
       "\n",
       "    .dataframe thead th {\n",
       "        text-align: right;\n",
       "    }\n",
       "</style>\n",
       "<table border=\"1\" class=\"dataframe\">\n",
       "  <thead>\n",
       "    <tr style=\"text-align: right;\">\n",
       "      <th></th>\n",
       "    </tr>\n",
       "  </thead>\n",
       "  <tbody>\n",
       "  </tbody>\n",
       "</table>\n",
       "</div>"
      ],
      "text/plain": [
       "Empty DataFrame\n",
       "Columns: []\n",
       "Index: []"
      ]
     },
     "metadata": {},
     "output_type": "display_data"
    },
    {
     "name": "stdout",
     "output_type": "stream",
     "text": [
      "Sheet name: Stories\n"
     ]
    },
    {
     "data": {
      "text/html": [
       "<div>\n",
       "<style scoped>\n",
       "    .dataframe tbody tr th:only-of-type {\n",
       "        vertical-align: middle;\n",
       "    }\n",
       "\n",
       "    .dataframe tbody tr th {\n",
       "        vertical-align: top;\n",
       "    }\n",
       "\n",
       "    .dataframe thead th {\n",
       "        text-align: right;\n",
       "    }\n",
       "</style>\n",
       "<table border=\"1\" class=\"dataframe\">\n",
       "  <thead>\n",
       "    <tr style=\"text-align: right;\">\n",
       "      <th></th>\n",
       "      <th>Title</th>\n",
       "      <th>Story Text</th>\n",
       "      <th>Relevance Score</th>\n",
       "    </tr>\n",
       "  </thead>\n",
       "  <tbody>\n",
       "  </tbody>\n",
       "</table>\n",
       "</div>"
      ],
      "text/plain": [
       "Empty DataFrame\n",
       "Columns: [Title, Story Text, Relevance Score]\n",
       "Index: []"
      ]
     },
     "metadata": {},
     "output_type": "display_data"
    }
   ],
   "source": [
    "xls = pd.ExcelFile(nextFileName)\n",
    "for sheet_name in xls.sheet_names:\n",
    "    df = pd.read_excel(nextFileName, sheet_name=sheet_name)\n",
    "    print(f\"Sheet name: {sheet_name}\")\n",
    "    display(df)\n",
    "xls.close()"
   ]
  },
  {
   "cell_type": "code",
   "execution_count": null,
   "id": "44939539-f082-4bbf-9a1e-5fc3533905d1",
   "metadata": {
    "editable": true,
    "slideshow": {
     "slide_type": ""
    },
    "tags": []
   },
   "outputs": [],
   "source": []
  }
 ],
 "metadata": {
  "kernelspec": {
   "display_name": "Python 3 (ipykernel)",
   "language": "python",
   "name": "python3"
  },
  "language_info": {
   "codemirror_mode": {
    "name": "ipython",
    "version": 3
   },
   "file_extension": ".py",
   "mimetype": "text/x-python",
   "name": "python",
   "nbconvert_exporter": "python",
   "pygments_lexer": "ipython3",
   "version": "3.11.5"
  }
 },
 "nbformat": 4,
 "nbformat_minor": 5
}
